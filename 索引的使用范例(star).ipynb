{
 "cells": [
  {
   "cell_type": "code",
   "execution_count": 83,
   "id": "2ee2ed25",
   "metadata": {},
   "outputs": [
    {
     "name": "stdout",
     "output_type": "stream",
     "text": [
      "\n",
      "tensor([[[229.4433],\n",
      "         [259.0966],\n",
      "         [235.3389],\n",
      "         [222.0915],\n",
      "         [ 80.1688],\n",
      "         [194.6028],\n",
      "         [350.4031],\n",
      "         [138.9966],\n",
      "         [333.5420],\n",
      "         [ 89.3357],\n",
      "         [313.5604],\n",
      "         [288.6507],\n",
      "         [ 65.6733],\n",
      "         [173.1181],\n",
      "         [244.5383],\n",
      "         [261.0913]],\n",
      "\n",
      "        [[ 29.4433],\n",
      "         [ 59.0966],\n",
      "         [135.3389],\n",
      "         [182.0915],\n",
      "         [180.4211],\n",
      "         [294.6028],\n",
      "         [ 50.4031],\n",
      "         [338.9966],\n",
      "         [300.5420],\n",
      "         [289.3357],\n",
      "         [ 13.5604],\n",
      "         [ 88.6507],\n",
      "         [165.6733],\n",
      "         [273.1181],\n",
      "         [344.5383],\n",
      "         [161.0913]]])\n",
      "\n"
     ]
    },
    {
     "data": {
      "text/plain": [
       "tensor([[229.4433],\n",
       "        [259.0966],\n",
       "        [235.3389],\n",
       "        [222.0915],\n",
       "        [ 80.1688],\n",
       "        [194.6028],\n",
       "        [350.4031],\n",
       "        [138.9966],\n",
       "        [333.5420],\n",
       "        [ 89.3357],\n",
       "        [313.5604],\n",
       "        [288.6507],\n",
       "        [ 65.6733],\n",
       "        [173.1181],\n",
       "        [244.5383],\n",
       "        [261.0913]])"
      ]
     },
     "execution_count": 83,
     "metadata": {},
     "output_type": "execute_result"
    }
   ],
   "source": [
    "import torch\n",
    "import numpy as np\n",
    "\n",
    "a = [[229.4433], [259.0966], [235.3389], [222.0915], [80.1688], [194.6028],\n",
    "     [350.4031], [138.9966], [333.5420], [89.3357], [313.5604], [288.6507],\n",
    "     [65.6733], [173.1181], [244.5383], [261.0913]]\n",
    "\n",
    "b = [[29.4433], [59.0966], [135.3389], [182.0915], [180.4211], [294.6028],\n",
    "     [50.4031], [338.9966], [300.5420], [289.3357], [13.5604], [88.6507],\n",
    "     [165.6733], [273.1181], [344.5383], [161.0913]]\n",
    "\n",
    "# 创建一个形状为(2, 16)的张量\n",
    "tensor = torch.Tensor([a, b])\n",
    "\n",
    "print()\n",
    "print(tensor)\n",
    "print()\n",
    "tensor[0, :]"
   ]
  },
  {
   "cell_type": "code",
   "execution_count": 85,
   "id": "ba79b703",
   "metadata": {},
   "outputs": [
    {
     "data": {
      "text/plain": [
       "233.3916"
      ]
     },
     "execution_count": 85,
     "metadata": {},
     "output_type": "execute_result"
    }
   ],
   "source": [
    "abs(80.1688 - 313.5604)"
   ]
  },
  {
   "cell_type": "code",
   "execution_count": 86,
   "id": "161bc9ea",
   "metadata": {},
   "outputs": [
    {
     "data": {
      "text/plain": [
       "tensor([[-200.0000],\n",
       "        [-200.0000],\n",
       "        [-100.0000],\n",
       "        [ -40.0000],\n",
       "        [ 100.2523],\n",
       "        [ 100.0000],\n",
       "        [-300.0000],\n",
       "        [ 200.0000],\n",
       "        [ -33.0000],\n",
       "        [ 200.0000],\n",
       "        [-300.0000],\n",
       "        [-200.0000],\n",
       "        [ 100.0000],\n",
       "        [ 100.0000],\n",
       "        [ 100.0000],\n",
       "        [-100.0000]])"
      ]
     },
     "execution_count": 86,
     "metadata": {},
     "output_type": "execute_result"
    }
   ],
   "source": [
    "# 计算差值\n",
    "diff = tensor[1, :] - tensor[0, :]\n",
    "diff"
   ]
  },
  {
   "cell_type": "code",
   "execution_count": 79,
   "id": "e4185db1",
   "metadata": {},
   "outputs": [
    {
     "data": {
      "text/plain": [
       "16"
      ]
     },
     "execution_count": 79,
     "metadata": {},
     "output_type": "execute_result"
    }
   ],
   "source": [
    "len(a)"
   ]
  },
  {
   "cell_type": "code",
   "execution_count": 78,
   "id": "d3a16798",
   "metadata": {},
   "outputs": [
    {
     "data": {
      "text/plain": [
       "2"
      ]
     },
     "execution_count": 78,
     "metadata": {},
     "output_type": "execute_result"
    }
   ],
   "source": [
    "len(tensor)"
   ]
  },
  {
   "cell_type": "code",
   "execution_count": 87,
   "id": "091fbb68",
   "metadata": {},
   "outputs": [
    {
     "data": {
      "text/plain": [
       "tensor([28296.2207])"
      ]
     },
     "execution_count": 87,
     "metadata": {},
     "output_type": "execute_result"
    }
   ],
   "source": [
    "mse = sum((tensor[1, :] - tensor[0, :])**2)/len(a)\n",
    "mse"
   ]
  },
  {
   "cell_type": "code",
   "execution_count": null,
   "id": "88140768",
   "metadata": {},
   "outputs": [],
   "source": []
  },
  {
   "cell_type": "code",
   "execution_count": 26,
   "id": "44143a05",
   "metadata": {},
   "outputs": [
    {
     "data": {
      "text/plain": [
       "tensor([ 29.4433,  59.0966,  50.4031, 338.9966, 289.3357,  13.5604,  88.6507])"
      ]
     },
     "execution_count": 26,
     "metadata": {},
     "output_type": "execute_result"
    }
   ],
   "source": [
    "tensor[1, :][diff > 180]"
   ]
  },
  {
   "cell_type": "code",
   "execution_count": 24,
   "id": "00ed858d",
   "metadata": {},
   "outputs": [
    {
     "data": {
      "text/plain": [
       "tensor([338.9966, 289.3357])"
      ]
     },
     "execution_count": 24,
     "metadata": {},
     "output_type": "execute_result"
    }
   ],
   "source": [
    "tensor[1, :][(diff > 180) & (tensor[1, :] > 180)]"
   ]
  },
  {
   "cell_type": "code",
   "execution_count": null,
   "id": "5775d81f",
   "metadata": {},
   "outputs": [],
   "source": []
  },
  {
   "cell_type": "code",
   "execution_count": null,
   "id": "fdbae833",
   "metadata": {},
   "outputs": [],
   "source": []
  },
  {
   "cell_type": "code",
   "execution_count": 18,
   "id": "83e427b4",
   "metadata": {},
   "outputs": [
    {
     "data": {
      "text/plain": [
       "tensor([[200.0000],\n",
       "        [200.0000],\n",
       "        [100.0000],\n",
       "        [ 40.0000],\n",
       "        [100.2523],\n",
       "        [100.0000],\n",
       "        [300.0000],\n",
       "        [200.0000],\n",
       "        [ 33.0000],\n",
       "        [200.0000],\n",
       "        [300.0000],\n",
       "        [200.0000],\n",
       "        [100.0000],\n",
       "        [100.0000],\n",
       "        [100.0000],\n",
       "        [100.0000]])"
      ]
     },
     "execution_count": 18,
     "metadata": {},
     "output_type": "execute_result"
    }
   ],
   "source": [
    "diff = abs(tensor[1, :] - tensor[0, :])\n",
    "\n",
    "diff[diff > 180 & (tensor[1, :] > 180)] = 360 + tensor[1, :] + tensor[0, :]"
   ]
  },
  {
   "cell_type": "code",
   "execution_count": null,
   "id": "d73b5165",
   "metadata": {},
   "outputs": [],
   "source": []
  },
  {
   "cell_type": "code",
   "execution_count": 75,
   "id": "4fa8243b",
   "metadata": {},
   "outputs": [
    {
     "data": {
      "text/plain": [
       "tensor([[ True],\n",
       "        [ True],\n",
       "        [False],\n",
       "        [False],\n",
       "        [False],\n",
       "        [False],\n",
       "        [ True],\n",
       "        [ True],\n",
       "        [False],\n",
       "        [ True],\n",
       "        [ True],\n",
       "        [ True],\n",
       "        [False],\n",
       "        [False],\n",
       "        [False],\n",
       "        [False]])"
      ]
     },
     "execution_count": 75,
     "metadata": {},
     "output_type": "execute_result"
    }
   ],
   "source": [
    "mask = (abs(tensor[1, :] - tensor[0, :]) > 180)\n",
    "mask"
   ]
  },
  {
   "cell_type": "code",
   "execution_count": 70,
   "id": "06a077da",
   "metadata": {},
   "outputs": [
    {
     "data": {
      "text/plain": [
       "tensor([[False],\n",
       "        [False],\n",
       "        [False],\n",
       "        [False],\n",
       "        [ True],\n",
       "        [ True],\n",
       "        [False],\n",
       "        [ True],\n",
       "        [False],\n",
       "        [ True],\n",
       "        [False],\n",
       "        [False],\n",
       "        [ True],\n",
       "        [ True],\n",
       "        [ True],\n",
       "        [False]])"
      ]
     },
     "execution_count": 70,
     "metadata": {},
     "output_type": "execute_result"
    }
   ],
   "source": [
    "mask1 = tensor[1, :] > tensor[0, :]\n",
    "mask1"
   ]
  },
  {
   "cell_type": "code",
   "execution_count": 76,
   "id": "8728e740",
   "metadata": {},
   "outputs": [
    {
     "data": {
      "text/plain": [
       "tensor([[-200.0000],\n",
       "        [-200.0000],\n",
       "        [-100.0000],\n",
       "        [ -40.0000],\n",
       "        [ 100.2523],\n",
       "        [ 100.0000],\n",
       "        [-300.0000],\n",
       "        [ 200.0000],\n",
       "        [ -33.0000],\n",
       "        [ 200.0000],\n",
       "        [-300.0000],\n",
       "        [-200.0000],\n",
       "        [ 100.0000],\n",
       "        [ 100.0000],\n",
       "        [ 100.0000],\n",
       "        [-100.0000]])"
      ]
     },
     "execution_count": 76,
     "metadata": {},
     "output_type": "execute_result"
    }
   ],
   "source": [
    "theta_diff = tensor[1, :] - tensor[0, :]\n",
    "theta_diff"
   ]
  },
  {
   "cell_type": "code",
   "execution_count": 77,
   "id": "588ce7ee",
   "metadata": {},
   "outputs": [
    {
     "data": {
      "text/plain": [
       "tensor([[ 160.0000],\n",
       "        [ 160.0000],\n",
       "        [-100.0000],\n",
       "        [ -40.0000],\n",
       "        [ 100.2523],\n",
       "        [ 100.0000],\n",
       "        [  60.0000],\n",
       "        [ 160.0000],\n",
       "        [ -33.0000],\n",
       "        [ 160.0000],\n",
       "        [  60.0000],\n",
       "        [ 160.0000],\n",
       "        [ 100.0000],\n",
       "        [ 100.0000],\n",
       "        [ 100.0000],\n",
       "        [-100.0000]])"
      ]
     },
     "execution_count": 77,
     "metadata": {},
     "output_type": "execute_result"
    }
   ],
   "source": [
    "theta_diff[mask] = 360 - abs(tensor[1, :][mask]  -  tensor[0, :][mask])\n",
    "theta_diff"
   ]
  },
  {
   "cell_type": "code",
   "execution_count": null,
   "id": "4e15a73d",
   "metadata": {},
   "outputs": [],
   "source": []
  },
  {
   "cell_type": "code",
   "execution_count": 64,
   "id": "1ad0026b",
   "metadata": {},
   "outputs": [
    {
     "data": {
      "text/plain": [
       "tensor([[ True],\n",
       "        [ True],\n",
       "        [False],\n",
       "        [False],\n",
       "        [False],\n",
       "        [False],\n",
       "        [ True],\n",
       "        [False],\n",
       "        [False],\n",
       "        [False],\n",
       "        [ True],\n",
       "        [ True],\n",
       "        [False],\n",
       "        [False],\n",
       "        [False],\n",
       "        [False]])"
      ]
     },
     "execution_count": 64,
     "metadata": {},
     "output_type": "execute_result"
    }
   ],
   "source": [
    "# 这是个需要360 - y(大) + x 的 mask\n",
    "\n",
    "mask0 = (abs(tensor[1, :] - tensor[0, :]) > 180) & (tensor[0, :] > tensor[1, :])\n",
    "mask1 = (abs(tensor[1, :] - tensor[0, :]) > 180) & (tensor[1, :] > tensor[0, :])\n",
    "\n",
    "tensor[0, :][mask0] *= -1\n",
    "tensor[1, :][mask1] *= -1\n",
    "tensor"
   ]
  },
  {
   "cell_type": "code",
   "execution_count": 58,
   "id": "e2fddbd7",
   "metadata": {},
   "outputs": [
    {
     "data": {
      "text/plain": [
       "tensor([[-229.4433],\n",
       "        [-259.0966],\n",
       "        [ 235.3389],\n",
       "        [ 222.0915],\n",
       "        [  80.1688],\n",
       "        [ 194.6028],\n",
       "        [-350.4031],\n",
       "        [ 138.9966],\n",
       "        [ 333.5420],\n",
       "        [  89.3357],\n",
       "        [-313.5604],\n",
       "        [-288.6507],\n",
       "        [  65.6733],\n",
       "        [ 173.1181],\n",
       "        [ 244.5383],\n",
       "        [ 261.0913]])"
      ]
     },
     "execution_count": 58,
     "metadata": {},
     "output_type": "execute_result"
    }
   ],
   "source": [
    "# 选出 y - x 大于180°且 x 大于 180 的值设为负数\n",
    "\n",
    "mask = (abs(tensor[1, :] - tensor[0, :]) > 180) & (tensor[0, :] > tensor[1, :]) & (tensor[0, :] > tensor[1, :])\n",
    "tensor[0, :][mask] *= -1\n",
    "\n",
    "tensor[0, :]"
   ]
  },
  {
   "cell_type": "code",
   "execution_count": null,
   "id": "f99d7691",
   "metadata": {},
   "outputs": [],
   "source": []
  },
  {
   "cell_type": "code",
   "execution_count": 43,
   "id": "e0047eb4",
   "metadata": {},
   "outputs": [
    {
     "data": {
      "text/plain": [
       "tensor([[ -29.4433],\n",
       "        [ -59.0966],\n",
       "        [-135.3389],\n",
       "        [-182.0915],\n",
       "        [-180.4211],\n",
       "        [-294.6028],\n",
       "        [ -50.4031],\n",
       "        [-338.9966],\n",
       "        [-300.5420],\n",
       "        [-289.3357],\n",
       "        [ -13.5604],\n",
       "        [ -88.6507],\n",
       "        [-165.6733],\n",
       "        [-273.1181],\n",
       "        [-344.5383],\n",
       "        [-161.0913]])"
      ]
     },
     "execution_count": 43,
     "metadata": {},
     "output_type": "execute_result"
    }
   ],
   "source": [
    "B = - tensor[1, :]\n",
    "B"
   ]
  },
  {
   "cell_type": "code",
   "execution_count": null,
   "id": "eeac31ab",
   "metadata": {},
   "outputs": [],
   "source": []
  },
  {
   "cell_type": "code",
   "execution_count": null,
   "id": "f065f1f1",
   "metadata": {},
   "outputs": [],
   "source": [
    "diff[diff > 180 & (tensor[1, :] > 180)] = 360 - tensor[1, :][(diff > 180) & (tensor[1, :] > 180)] + tensor[0, :][(diff > 180) & (tensor[1, :] < 180)]\n",
    "diff[diff > 180 & (tensor[0, :] > 180)] = 360 - tensor[0, :][(diff > 180) & (tensor[1, :] > 180)] + tensor[0, :][(diff > 180) & (tensor[1, :] < 180)]"
   ]
  },
  {
   "cell_type": "code",
   "execution_count": null,
   "id": "e66e5bd3",
   "metadata": {},
   "outputs": [],
   "source": []
  },
  {
   "cell_type": "code",
   "execution_count": null,
   "id": "dfcce300",
   "metadata": {},
   "outputs": [],
   "source": []
  },
  {
   "cell_type": "code",
   "execution_count": 13,
   "id": "ec8158a2",
   "metadata": {},
   "outputs": [
    {
     "data": {
      "text/plain": [
       "tensor([ 29.4433,  59.0966,  50.4031, 338.9966, 289.3357,  13.5604,  88.6507])"
      ]
     },
     "execution_count": 13,
     "metadata": {},
     "output_type": "execute_result"
    }
   ],
   "source": [
    "tensor[1, :][diff > 180]"
   ]
  },
  {
   "cell_type": "code",
   "execution_count": null,
   "id": "b5317369",
   "metadata": {},
   "outputs": [],
   "source": [
    "# 处理差值大于180°的情况\n",
    "diff[diff > 180] = 360 - tensor[1, :][diff > 180] + tensor[0, :][diff > 180]\n",
    "\n",
    "# 输出结果\n",
    "print(diff)"
   ]
  },
  {
   "cell_type": "code",
   "execution_count": null,
   "id": "ef8ba7b3",
   "metadata": {},
   "outputs": [],
   "source": []
  },
  {
   "cell_type": "code",
   "execution_count": null,
   "id": "003d2e47",
   "metadata": {},
   "outputs": [],
   "source": []
  },
  {
   "cell_type": "code",
   "execution_count": null,
   "id": "01093f45",
   "metadata": {},
   "outputs": [],
   "source": [
    "import torch\n",
    "\n",
    "# 创建一个形状为(2, 16)的张量\n",
    "tensor = torch.Tensor([[x1, x2, ..., x16],\n",
    "                       [y1, y2, ..., y16]])\n",
    "\n",
    "# 计算差值\n",
    "diff = y - x\n",
    "\n",
    "# 处理差值大于180°的情况\n",
    "diff[diff > 180] = 360 - y[diff > 180] + x[diff > 180]\n",
    "\n",
    "# 输出结果\n",
    "print(diff)"
   ]
  }
 ],
 "metadata": {
  "kernelspec": {
   "display_name": "Python [conda env:pytorch]",
   "language": "python",
   "name": "conda-env-pytorch-py"
  },
  "language_info": {
   "codemirror_mode": {
    "name": "ipython",
    "version": 3
   },
   "file_extension": ".py",
   "mimetype": "text/x-python",
   "name": "python",
   "nbconvert_exporter": "python",
   "pygments_lexer": "ipython3",
   "version": "3.9.16"
  },
  "toc": {
   "base_numbering": 1,
   "nav_menu": {},
   "number_sections": true,
   "sideBar": true,
   "skip_h1_title": false,
   "title_cell": "Table of Contents",
   "title_sidebar": "Contents",
   "toc_cell": false,
   "toc_position": {},
   "toc_section_display": true,
   "toc_window_display": false
  }
 },
 "nbformat": 4,
 "nbformat_minor": 5
}
