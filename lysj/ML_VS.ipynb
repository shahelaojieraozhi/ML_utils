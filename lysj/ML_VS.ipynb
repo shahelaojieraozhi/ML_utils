{
 "cells": [
  {
   "cell_type": "code",
   "execution_count": 89,
   "id": "379f09a1",
   "metadata": {},
   "outputs": [],
   "source": [
    "import pandas as pd\n",
    "import matplotlib\n",
    "from matplotlib import pyplot as plt\n",
    "from sklearn.model_selection import train_test_split, GridSearchCV\n",
    "from sklearn.ensemble import RandomForestClassifier\n",
    "from sklearn.metrics import accuracy_score, confusion_matrix\n",
    "import numpy as np\n",
    "from sklearn.model_selection import cross_val_score\n",
    "from sklearn.tree import DecisionTreeClassifier\n",
    "from sklearn.model_selection import learning_curve\n",
    "from sklearn.model_selection import train_test_split\n",
    "from sklearn.preprocessing import StandardScaler\n",
    "from sklearn import metrics\n",
    "from sklearn.metrics import confusion_matrix\n",
    "from sklearn.svm import SVC\n",
    "from sklearn.ensemble import RandomForestClassifier\n",
    "from sklearn.tree import DecisionTreeClassifier\n",
    "from sklearn.neighbors import KNeighborsClassifier\n",
    "from sklearn.ensemble import AdaBoostClassifier\n",
    "from sklearn.naive_bayes import GaussianNB\n",
    "from sklearn.discriminant_analysis import QuadraticDiscriminantAnalysis\n",
    "from sklearn import metrics\n",
    "import datetime\n",
    "from pandas.plotting import radviz\n",
    "import argparse, os\n",
    "from sklearn.model_selection import train_test_split\n",
    "from sklearn.preprocessing import StandardScaler\n",
    "from sklearn.model_selection import cross_val_score\n",
    "from matplotlib import pyplot as plt\n",
    "from sklearn.metrics import confusion_matrix\n",
    "from sklearn.metrics import roc_curve, auc\n",
    "import joblib\n",
    "from itertools import cycle"
   ]
  },
  {
   "cell_type": "code",
   "execution_count": 90,
   "id": "ddb79be7",
   "metadata": {},
   "outputs": [],
   "source": [
    "matplotlib.rcParams['font.sans-serif'] = ['SimHei']  # 指定字体\n",
    "matplotlib.rcParams['axes.unicode_minus'] = False  # 解决保存图像负号\"-\"显示方框的问题"
   ]
  },
  {
   "cell_type": "code",
   "execution_count": 91,
   "id": "630647b8",
   "metadata": {},
   "outputs": [
    {
     "data": {
      "text/html": [
       "<div>\n",
       "<style scoped>\n",
       "    .dataframe tbody tr th:only-of-type {\n",
       "        vertical-align: middle;\n",
       "    }\n",
       "\n",
       "    .dataframe tbody tr th {\n",
       "        vertical-align: top;\n",
       "    }\n",
       "\n",
       "    .dataframe thead th {\n",
       "        text-align: right;\n",
       "    }\n",
       "</style>\n",
       "<table border=\"1\" class=\"dataframe\">\n",
       "  <thead>\n",
       "    <tr style=\"text-align: right;\">\n",
       "      <th></th>\n",
       "      <th>合加速度</th>\n",
       "      <th>对数合加速度</th>\n",
       "      <th>均方根值</th>\n",
       "      <th>对数均方根值</th>\n",
       "      <th>峰峰值</th>\n",
       "      <th>对数峰峰值</th>\n",
       "      <th>标准差</th>\n",
       "      <th>对数标准差</th>\n",
       "      <th>频域主峰</th>\n",
       "      <th>标签</th>\n",
       "      <th>Unnamed: 10</th>\n",
       "    </tr>\n",
       "  </thead>\n",
       "  <tbody>\n",
       "    <tr>\n",
       "      <th>0</th>\n",
       "      <td>0.000030</td>\n",
       "      <td>-2.851460</td>\n",
       "      <td>0.014771</td>\n",
       "      <td>-2.728709</td>\n",
       "      <td>0.014208</td>\n",
       "      <td>-2.756784</td>\n",
       "      <td>0.005752</td>\n",
       "      <td>-3.145751</td>\n",
       "      <td>0.017250</td>\n",
       "      <td>0</td>\n",
       "      <td>无震颤</td>\n",
       "    </tr>\n",
       "    <tr>\n",
       "      <th>1</th>\n",
       "      <td>0.000051</td>\n",
       "      <td>-2.388829</td>\n",
       "      <td>0.016548</td>\n",
       "      <td>-2.248595</td>\n",
       "      <td>0.017070</td>\n",
       "      <td>-2.196049</td>\n",
       "      <td>0.006928</td>\n",
       "      <td>-2.584288</td>\n",
       "      <td>0.016813</td>\n",
       "      <td>0</td>\n",
       "      <td>无震颤</td>\n",
       "    </tr>\n",
       "    <tr>\n",
       "      <th>2</th>\n",
       "      <td>0.000035</td>\n",
       "      <td>-2.277593</td>\n",
       "      <td>0.017278</td>\n",
       "      <td>-2.156877</td>\n",
       "      <td>0.017223</td>\n",
       "      <td>-2.174182</td>\n",
       "      <td>0.006986</td>\n",
       "      <td>-2.563832</td>\n",
       "      <td>0.016013</td>\n",
       "      <td>0</td>\n",
       "      <td>无震颤</td>\n",
       "    </tr>\n",
       "    <tr>\n",
       "      <th>3</th>\n",
       "      <td>0.000053</td>\n",
       "      <td>-2.285369</td>\n",
       "      <td>0.016774</td>\n",
       "      <td>-2.167150</td>\n",
       "      <td>0.016958</td>\n",
       "      <td>-2.165231</td>\n",
       "      <td>0.006879</td>\n",
       "      <td>-2.555175</td>\n",
       "      <td>0.016168</td>\n",
       "      <td>0</td>\n",
       "      <td>无震颤</td>\n",
       "    </tr>\n",
       "    <tr>\n",
       "      <th>4</th>\n",
       "      <td>0.000047</td>\n",
       "      <td>-2.428037</td>\n",
       "      <td>0.015901</td>\n",
       "      <td>-2.298972</td>\n",
       "      <td>0.016120</td>\n",
       "      <td>-2.287763</td>\n",
       "      <td>0.006542</td>\n",
       "      <td>-2.677084</td>\n",
       "      <td>0.016154</td>\n",
       "      <td>0</td>\n",
       "      <td>无震颤</td>\n",
       "    </tr>\n",
       "    <tr>\n",
       "      <th>...</th>\n",
       "      <td>...</td>\n",
       "      <td>...</td>\n",
       "      <td>...</td>\n",
       "      <td>...</td>\n",
       "      <td>...</td>\n",
       "      <td>...</td>\n",
       "      <td>...</td>\n",
       "      <td>...</td>\n",
       "      <td>...</td>\n",
       "      <td>...</td>\n",
       "      <td>...</td>\n",
       "    </tr>\n",
       "    <tr>\n",
       "      <th>115</th>\n",
       "      <td>0.000031</td>\n",
       "      <td>-2.816360</td>\n",
       "      <td>0.014121</td>\n",
       "      <td>-2.703158</td>\n",
       "      <td>0.013613</td>\n",
       "      <td>-2.721710</td>\n",
       "      <td>0.005510</td>\n",
       "      <td>-3.111796</td>\n",
       "      <td>0.016226</td>\n",
       "      <td>0</td>\n",
       "      <td>无震颤</td>\n",
       "    </tr>\n",
       "    <tr>\n",
       "      <th>116</th>\n",
       "      <td>0.000036</td>\n",
       "      <td>-2.817512</td>\n",
       "      <td>0.014209</td>\n",
       "      <td>-2.691561</td>\n",
       "      <td>0.013765</td>\n",
       "      <td>-2.690475</td>\n",
       "      <td>0.005571</td>\n",
       "      <td>-3.080044</td>\n",
       "      <td>0.016181</td>\n",
       "      <td>0</td>\n",
       "      <td>无震颤</td>\n",
       "    </tr>\n",
       "    <tr>\n",
       "      <th>117</th>\n",
       "      <td>0.000045</td>\n",
       "      <td>-2.869202</td>\n",
       "      <td>0.014064</td>\n",
       "      <td>-2.741503</td>\n",
       "      <td>0.013537</td>\n",
       "      <td>-2.771172</td>\n",
       "      <td>0.005480</td>\n",
       "      <td>-3.160949</td>\n",
       "      <td>0.016256</td>\n",
       "      <td>0</td>\n",
       "      <td>无震颤</td>\n",
       "    </tr>\n",
       "    <tr>\n",
       "      <th>118</th>\n",
       "      <td>0.000041</td>\n",
       "      <td>-2.710718</td>\n",
       "      <td>0.014377</td>\n",
       "      <td>-2.588689</td>\n",
       "      <td>0.014088</td>\n",
       "      <td>-2.591960</td>\n",
       "      <td>0.005706</td>\n",
       "      <td>-2.981536</td>\n",
       "      <td>0.015847</td>\n",
       "      <td>0</td>\n",
       "      <td>无震颤</td>\n",
       "    </tr>\n",
       "    <tr>\n",
       "      <th>119</th>\n",
       "      <td>0.000036</td>\n",
       "      <td>-2.845144</td>\n",
       "      <td>0.014062</td>\n",
       "      <td>-2.726375</td>\n",
       "      <td>0.013581</td>\n",
       "      <td>-2.736607</td>\n",
       "      <td>0.005498</td>\n",
       "      <td>-3.126473</td>\n",
       "      <td>0.016457</td>\n",
       "      <td>0</td>\n",
       "      <td>无震颤</td>\n",
       "    </tr>\n",
       "  </tbody>\n",
       "</table>\n",
       "<p>120 rows × 11 columns</p>\n",
       "</div>"
      ],
      "text/plain": [
       "         合加速度    对数合加速度      均方根值    对数均方根值       峰峰值     对数峰峰值       标准差  \\\n",
       "0    0.000030 -2.851460  0.014771 -2.728709  0.014208 -2.756784  0.005752   \n",
       "1    0.000051 -2.388829  0.016548 -2.248595  0.017070 -2.196049  0.006928   \n",
       "2    0.000035 -2.277593  0.017278 -2.156877  0.017223 -2.174182  0.006986   \n",
       "3    0.000053 -2.285369  0.016774 -2.167150  0.016958 -2.165231  0.006879   \n",
       "4    0.000047 -2.428037  0.015901 -2.298972  0.016120 -2.287763  0.006542   \n",
       "..        ...       ...       ...       ...       ...       ...       ...   \n",
       "115  0.000031 -2.816360  0.014121 -2.703158  0.013613 -2.721710  0.005510   \n",
       "116  0.000036 -2.817512  0.014209 -2.691561  0.013765 -2.690475  0.005571   \n",
       "117  0.000045 -2.869202  0.014064 -2.741503  0.013537 -2.771172  0.005480   \n",
       "118  0.000041 -2.710718  0.014377 -2.588689  0.014088 -2.591960  0.005706   \n",
       "119  0.000036 -2.845144  0.014062 -2.726375  0.013581 -2.736607  0.005498   \n",
       "\n",
       "        对数标准差      频域主峰  标签 Unnamed: 10  \n",
       "0   -3.145751  0.017250   0         无震颤  \n",
       "1   -2.584288  0.016813   0         无震颤  \n",
       "2   -2.563832  0.016013   0         无震颤  \n",
       "3   -2.555175  0.016168   0         无震颤  \n",
       "4   -2.677084  0.016154   0         无震颤  \n",
       "..        ...       ...  ..         ...  \n",
       "115 -3.111796  0.016226   0         无震颤  \n",
       "116 -3.080044  0.016181   0         无震颤  \n",
       "117 -3.160949  0.016256   0         无震颤  \n",
       "118 -2.981536  0.015847   0         无震颤  \n",
       "119 -3.126473  0.016457   0         无震颤  \n",
       "\n",
       "[120 rows x 11 columns]"
      ]
     },
     "execution_count": 91,
     "metadata": {},
     "output_type": "execute_result"
    }
   ],
   "source": [
    "dataset = pd.read_excel('E:\\\\File_cache\\\\feiq\\\\Recv Files\\\\data_9_120.xlsx')\n",
    "dataset"
   ]
  },
  {
   "cell_type": "code",
   "execution_count": 92,
   "id": "46f1363b",
   "metadata": {},
   "outputs": [
    {
     "name": "stdout",
     "output_type": "stream",
     "text": [
      "(120, 9)\n",
      "(120,)\n"
     ]
    }
   ],
   "source": [
    "X = dataset.iloc[:, :9].values\n",
    "y = dataset.iloc[:, -2].values\n",
    "print(X.shape)\n",
    "print(y.shape)\n",
    "# (150, 4)\n",
    "# (150,)"
   ]
  },
  {
   "cell_type": "code",
   "execution_count": 64,
   "id": "e10ce4a9",
   "metadata": {},
   "outputs": [
    {
     "data": {
      "text/plain": [
       "(36, 9)"
      ]
     },
     "execution_count": 64,
     "metadata": {},
     "output_type": "execute_result"
    }
   ],
   "source": [
    "# # 划分数据集\n",
    "# X_train, X_test, y_train, y_test = train_test_split(X, y, train_size=0.7)\n",
    "# X_test.shape"
   ]
  },
  {
   "cell_type": "code",
   "execution_count": 69,
   "id": "edcdeb85",
   "metadata": {},
   "outputs": [
    {
     "ename": "NameError",
     "evalue": "name 'mean' is not defined",
     "output_type": "error",
     "traceback": [
      "\u001b[1;31m---------------------------------------------------------------------------\u001b[0m",
      "\u001b[1;31mNameError\u001b[0m                                 Traceback (most recent call last)",
      "\u001b[1;32m~\\AppData\\Local\\Temp\\ipykernel_21256\\2254517848.py\u001b[0m in \u001b[0;36m<module>\u001b[1;34m\u001b[0m\n\u001b[0;32m      1\u001b[0m \u001b[0ma\u001b[0m \u001b[1;33m=\u001b[0m \u001b[1;33m[\u001b[0m\u001b[1;36m52\u001b[0m\u001b[1;33m,\u001b[0m\u001b[1;36m69\u001b[0m\u001b[1;33m,\u001b[0m\u001b[1;36m35\u001b[0m\u001b[1;33m,\u001b[0m\u001b[1;36m65\u001b[0m\u001b[1;33m,\u001b[0m\u001b[1;36m89\u001b[0m\u001b[1;33m,\u001b[0m\u001b[1;36m15\u001b[0m\u001b[1;33m,\u001b[0m\u001b[1;36m34\u001b[0m\u001b[1;33m]\u001b[0m\u001b[1;33m\u001b[0m\u001b[1;33m\u001b[0m\u001b[0m\n\u001b[1;32m----> 2\u001b[1;33m \u001b[0mb\u001b[0m \u001b[1;33m=\u001b[0m \u001b[0mmean\u001b[0m\u001b[1;33m(\u001b[0m\u001b[0ma\u001b[0m\u001b[1;33m)\u001b[0m\u001b[1;33m\u001b[0m\u001b[1;33m\u001b[0m\u001b[0m\n\u001b[0m\u001b[0;32m      3\u001b[0m \u001b[0mprint\u001b[0m\u001b[1;33m(\u001b[0m\u001b[0mb\u001b[0m\u001b[1;33m)\u001b[0m\u001b[1;33m\u001b[0m\u001b[1;33m\u001b[0m\u001b[0m\n",
      "\u001b[1;31mNameError\u001b[0m: name 'mean' is not defined"
     ]
    }
   ],
   "source": []
  },
  {
   "cell_type": "code",
   "execution_count": 112,
   "id": "f84501f2",
   "metadata": {},
   "outputs": [
    {
     "name": "stdout",
     "output_type": "stream",
     "text": [
      "RF准确率为： 0.9166666666666666\n",
      "RF准确率为： 0.9722222222222222\n",
      "RF准确率为： 1.0\n",
      "RF准确率为： 0.9444444444444444\n",
      "RF准确率为： 0.9444444444444444\n",
      "RF准确率为： 1.0\n",
      "RF准确率为： 0.9722222222222222\n",
      "RF准确率为： 0.9444444444444444\n",
      "RF准确率为： 1.0\n",
      "RF准确率为： 0.9444444444444444\n",
      "0.9638888888888889\n"
     ]
    }
   ],
   "source": [
    "\"\"\" Random Forest Classifier \"\"\"\n",
    "lis = []\n",
    "for i in range(10):\n",
    "    # 划分数据集\n",
    "    X_train, X_test, y_train, y_test = train_test_split(X, y, train_size=0.7)\n",
    "    X_test.shape\n",
    "    rfc = RandomForestClassifier(n_estimators=10)\n",
    "    rfc.fit(X_train, y_train)\n",
    "    pred_y = rfc.predict(X_test)\n",
    "#     pred_y, y_test\n",
    "    \n",
    "    # 计算准确率——自己写的\n",
    "    L = pred_y.shape[0]\n",
    "    flag = 0\n",
    "    for i in range(L):\n",
    "        if pred_y[i] == y_test[i]:\n",
    "            flag += 1\n",
    "    print(\"RF准确率为：\", flag/L)\n",
    "    lis.append(flag/L)\n",
    "sum = 0\n",
    "for i in lis:\n",
    "    sum = sum + i\n",
    "print(sum/len(lis))"
   ]
  },
  {
   "cell_type": "code",
   "execution_count": 59,
   "id": "350a6fa2",
   "metadata": {},
   "outputs": [
    {
     "data": {
      "text/plain": [
       "0.9444444444444444"
      ]
     },
     "execution_count": 59,
     "metadata": {},
     "output_type": "execute_result"
    }
   ],
   "source": [
    "1- 2/36"
   ]
  },
  {
   "cell_type": "code",
   "execution_count": 16,
   "id": "54ca4515",
   "metadata": {},
   "outputs": [
    {
     "name": "stdout",
     "output_type": "stream",
     "text": [
      "DecisionTreeClassifier: 0.9390909090909092\n"
     ]
    }
   ],
   "source": [
    "\"\"\" DecisionTreeClassifier \"\"\"\n",
    "clf_l = []\n",
    "for i in range(10):\n",
    "    clf = DecisionTreeClassifier()\n",
    "    clf_s = cross_val_score(clf, X_train, y_train, cv=10, scoring='accuracy').mean()\n",
    "    clf_l.append(clf_s)\n",
    "\n",
    "clf_accuracy = np.mean(clf_l)\n",
    "print(\"DecisionTreeClassifier:\", clf_accuracy)"
   ]
  },
  {
   "cell_type": "code",
   "execution_count": 88,
   "id": "14978219",
   "metadata": {},
   "outputs": [
    {
     "name": "stdout",
     "output_type": "stream",
     "text": [
      "DT准确率为： 0.9444444444444444\n",
      "DT准确率为： 0.9722222222222222\n",
      "DT准确率为： 0.9444444444444444\n",
      "DT准确率为： 0.8888888888888888\n",
      "DT准确率为： 0.8888888888888888\n",
      "DT准确率为： 0.9444444444444444\n",
      "DT准确率为： 0.9444444444444444\n",
      "DT准确率为： 0.8333333333333334\n",
      "DT准确率为： 0.9722222222222222\n",
      "DT准确率为： 0.8055555555555556\n",
      "测试集平均准确率： 0.9138888888888888\n"
     ]
    }
   ],
   "source": [
    "\"\"\" DecisionTreeClassifier \"\"\"\n",
    "lis = []\n",
    "for i in range(10):\n",
    "    # 划分数据集\n",
    "    X_train, X_test, y_train, y_test = train_test_split(X, y, train_size=0.7)\n",
    "    X_test.shape\n",
    "    clf = DecisionTreeClassifier()\n",
    "    clf.fit(X_train, y_train)\n",
    "    pred_y = clf.predict(X_test)\n",
    "#     pred_y, y_test\n",
    "    \n",
    "    # 计算准确率——自己写的\n",
    "    L = pred_y.shape[0]\n",
    "    flag = 0\n",
    "    for i in range(L):\n",
    "        if pred_y[i] == y_test[i]:\n",
    "            flag += 1\n",
    "    print(\"DT准确率为：\", flag/L)\n",
    "    lis.append(flag/L)\n",
    "sum = 0\n",
    "for i in lis:\n",
    "    sum = sum + i\n",
    "print('测试集平均准确率：', sum/len(lis))"
   ]
  },
  {
   "cell_type": "code",
   "execution_count": 32,
   "id": "5a063a55",
   "metadata": {},
   "outputs": [
    {
     "data": {
      "text/plain": [
       "(array([2, 1, 1, 2, 2, 1, 2, 2, 1, 1, 2, 0, 1, 0, 2, 2, 1, 1, 0, 1, 1, 2,\n",
       "        2, 1, 0, 2, 1, 2, 0, 2, 2, 2, 2], dtype=int64),\n",
       " array([2, 1, 1, 2, 2, 1, 2, 2, 1, 1, 2, 0, 1, 0, 2, 2, 1, 1, 0, 1, 1, 2,\n",
       "        2, 1, 0, 2, 1, 2, 0, 2, 2, 2, 2], dtype=int64))"
      ]
     },
     "execution_count": 32,
     "metadata": {},
     "output_type": "execute_result"
    }
   ],
   "source": [
    "clf = DecisionTreeClassifier()\n",
    "clf.fit(X_train, y_train)\n",
    "y_score = clf.predict(X_test)\n",
    "y_score, y_test"
   ]
  },
  {
   "cell_type": "code",
   "execution_count": 17,
   "id": "8257eaab",
   "metadata": {},
   "outputs": [
    {
     "name": "stdout",
     "output_type": "stream",
     "text": [
      "Support vector machine: 0.9345454545454543\n"
     ]
    }
   ],
   "source": [
    "\"\"\" Support vector machine \"\"\"\n",
    "SVM_l = []\n",
    "for i in range(10):\n",
    "    svc = SVC(C=1.0, kernel='rbf', degree=3, gamma='scale', random_state=1)\n",
    "    svc_s = cross_val_score(svc, X_train, y_train, cv=10, scoring='accuracy').mean()\n",
    "    SVM_l.append(svc_s)\n",
    "\n",
    "SVM_accuracy = np.mean(SVM_l)\n",
    "print(\"Support vector machine:\", SVM_accuracy)"
   ]
  },
  {
   "cell_type": "code",
   "execution_count": 108,
   "id": "2afc7ffa",
   "metadata": {},
   "outputs": [
    {
     "name": "stdout",
     "output_type": "stream",
     "text": [
      "SVM准确率为： 1.0\n",
      "SVM准确率为： 0.9166666666666666\n",
      "SVM准确率为： 0.9722222222222222\n",
      "SVM准确率为： 0.8888888888888888\n",
      "SVM准确率为： 0.9722222222222222\n",
      "SVM准确率为： 0.9722222222222222\n",
      "SVM准确率为： 1.0\n",
      "SVM准确率为： 0.9444444444444444\n",
      "SVM准确率为： 0.9444444444444444\n",
      "SVM准确率为： 0.8611111111111112\n",
      "测试集平均准确率： 0.9472222222222222\n"
     ]
    }
   ],
   "source": [
    "\"\"\" Support vector machine \"\"\"\n",
    "lis = []\n",
    "for i in range(10):\n",
    "    # 划分数据集\n",
    "    X_train, X_test, y_train, y_test = train_test_split(X, y, train_size=0.7)\n",
    "    X_test.shape\n",
    "    svc = SVC(C=1.0, kernel='rbf', degree=3, gamma='scale', random_state=1)\n",
    "    svc.fit(X_train, y_train)\n",
    "    pred_y = svc.predict(X_test)\n",
    "#     pred_y, y_test\n",
    "    \n",
    "    # 计算准确率——自己写的\n",
    "    L = pred_y.shape[0]\n",
    "    flag = 0\n",
    "    for i in range(L):\n",
    "        if pred_y[i] == y_test[i]:\n",
    "            flag += 1\n",
    "    print(\"SVM准确率为：\", flag/L)\n",
    "    lis.append(flag/L)\n",
    "sum = 0\n",
    "for i in lis:\n",
    "    sum = sum + i\n",
    "print('测试集平均准确率：', sum/len(lis))"
   ]
  },
  {
   "cell_type": "code",
   "execution_count": null,
   "id": "858a276d",
   "metadata": {},
   "outputs": [],
   "source": []
  }
 ],
 "metadata": {
  "kernelspec": {
   "display_name": "Python [conda env:Pytorch] *",
   "language": "python",
   "name": "conda-env-Pytorch-py"
  },
  "language_info": {
   "codemirror_mode": {
    "name": "ipython",
    "version": 3
   },
   "file_extension": ".py",
   "mimetype": "text/x-python",
   "name": "python",
   "nbconvert_exporter": "python",
   "pygments_lexer": "ipython3",
   "version": "3.7.12"
  }
 },
 "nbformat": 4,
 "nbformat_minor": 5
}
